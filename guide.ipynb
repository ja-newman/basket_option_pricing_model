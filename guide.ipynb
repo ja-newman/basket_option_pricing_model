{
 "cells": [
  {
   "cell_type": "code",
   "execution_count": 21,
   "metadata": {},
   "outputs": [],
   "source": [
    "import numpy as np\n",
    "import itertools"
   ]
  },
  {
   "cell_type": "markdown",
   "metadata": {},
   "source": [
    "---\n",
    "## User Inputs and Preliminaries\n",
    "\n",
    "We begin by allowing the user to define parameters for the assets, being their initial prices, up, and down factors.\n",
    "\n",
    "\"time_count\" refers to time steps this model takes, with time being modelled as a finite set $\\mathbb{T} = \\{0, 1, ..., \\textnormal{T}\\}$.\n",
    "\n",
    "\"risk_free_rate\" simply refers to the return of risk-free assets, where a unit of money invested in it (i.e. bonds, savings) at time $t = 0$ will yield $\\textnormal{R} = (1 + r)$ units of money after 1 time-step. There is the assumption that the risk-free rate will remain unchanged at all times.\n",
    "\n",
    "\"option_type\" is a choice between \"call\" or \"put\".\n",
    "\n",
    "\"selected_time\" is an optional parameter (otherwise zero). ** Ignore for now **"
   ]
  },
  {
   "cell_type": "code",
   "execution_count": 22,
   "metadata": {},
   "outputs": [
    {
     "name": "stdout",
     "output_type": "stream",
     "text": [
      "Asset prices: [100, 100]\n",
      "Up: [1.1, 1.1]\n",
      "Down: [0.8, 0.9]\n",
      "Option type: call\n"
     ]
    }
   ],
   "source": [
    "risk_free_rate = 1\n",
    "initial_prices = [100, 100]\n",
    "up_factors = [1.1, 1.1]\n",
    "down_factors = [0.8, 0.9]\n",
    "strike_price = 100\n",
    "option_type = \"call\"\n",
    "\n",
    "asset_count = len(initial_prices)\n",
    "time_count = 2\n",
    "selected_time = 0\n",
    "\n",
    "print(\"Asset prices:\", initial_prices)\n",
    "print(\"Up:\", up_factors)\n",
    "print(\"Down:\", down_factors)\n",
    "print(\"Option type:\", option_type)"
   ]
  },
  {
   "cell_type": "markdown",
   "metadata": {},
   "source": [
    "---\n",
    "## Formula: no-arbitrage interval upper-bound $C_{\\textnormal{max}}$\n",
    "\n",
    "Where single-asset options, within the binomial model, are priced such that they achieve a \"no-arbitrage\" price (it is not possible to make a sure profit without risk to any capital outlay), basket options encounter an \"issue\" where there is no definitive no-arbitrage price, and for extremely long and complex reasons, we have a no-arbitrage price interval, defined as the region within $C_{\\textnormal{min}}$ and $C_{\\textnormal{max}}$.\n",
    "\n",
    "For the sake of simplicity, we use Kedra, Libman and Steblovskaya (2022)'s explicit formula for determining the upper-bound $C_{\\textnormal{max}}$ as our pricing model.\n",
    "\n",
    "$$\n",
    "C_{\\textnormal{max}}(v) = \\sum_{k_0 + \\dots + k_m = n-k} \\frac{(n-k)!}{k_0!\\dots k_m!}\\textnormal{P}(\\mu_0)^{k_0}\\dots \\textnormal{P}(\\mu_m)^{k_m}\\textnormal{X}(\\omega_1 \\dots\\omega_k\\mu_0\\dots\\mu_0\\dots\\mu_m\\dots\\mu_m)\n",
    "$$\n",
    "\n",
    "Rather than tackling the formula directly, we will do so in a more procedural fashion to simplify its use.\n",
    "\n",
    "Firstly, for this two-asset guide example, we create a set $I = \\left \\{ 0, 1, 2\\right \\}$ of numbers ranging from 0 to m (number of assets). We can then create another set $I^{n-k} = I^2$, containing $(n-k) \\times 1$ matricies of all combinations of numbes within $I$ in lexicographic order:\n",
    "\n",
    "$$\n",
    "I^2 = \\left\\{ \\left( \\begin{matrix} 0 \\\\ 0 \\end{matrix} \\right), \\left( \\begin{matrix} 0 \\\\ 1 \\end{matrix} \\right), \\left( \\begin{matrix} 0 \\\\ 2 \\end{matrix} \\right), \\left( \\begin{matrix} 1 \\\\ 0 \\end{matrix} \\right), \\left( \\begin{matrix} 1 \\\\ 1 \\end{matrix} \\right), \\left( \\begin{matrix} 1 \\\\ 2 \\end{matrix} \\right), \\left( \\begin{matrix} 2 \\\\ 0 \\end{matrix} \\right), \\left( \\begin{matrix} 2 \\\\ 1 \\end{matrix} \\right), \\left( \\begin{matrix} 2 \\\\ 2 \\end{matrix} \\right) \\right\\}.\n",
    "$$"
   ]
  },
  {
   "cell_type": "code",
   "execution_count": 23,
   "metadata": {},
   "outputs": [
    {
     "name": "stdout",
     "output_type": "stream",
     "text": [
      "[(0, 0), (0, 1), (0, 2), (1, 0), (1, 1), (1, 2), (2, 0), (2, 1), (2, 2)]\n"
     ]
    }
   ],
   "source": [
    "set_i = list(range(asset_count + 1))\n",
    "I_factor = time_count - selected_time\n",
    "\n",
    "set_I = list(itertools.product(set_i, repeat=I_factor))\n",
    "print(set_I)"
   ]
  },
  {
   "cell_type": "markdown",
   "metadata": {},
   "source": [
    "What is worth mentioning below are the \"coefficients\" $b_i$. These coefficients are such that $b_0 = 1$, and $b_i = \\frac{R-D_i}{U_i - D_i}$. $b_0 \\geq b_1 \\geq \\dots \\geq b_m$ must hold at all times. In our example, we have \n",
    "\n",
    "$$\n",
    "b_0 = 1,\\ \\  b_1 = \\frac{2}{3},\\ \\  b_2 = \\frac{1}{2}\n",
    "$$\n",
    "\n",
    "Because these coefficients have to be organised in descending order, we will rearrange our assets and their respective factors as necessary."
   ]
  },
  {
   "cell_type": "code",
   "execution_count": 24,
   "metadata": {},
   "outputs": [
    {
     "name": "stdout",
     "output_type": "stream",
     "text": [
      "Sorted coefficients: [1, 0.6666666666666664, 0.4999999999999997]\n",
      "Sorted prices: [100, 100]\n",
      "Sorted up factors: [1.1, 1.1]\n",
      "Sorted down factors: [0.8, 0.9]\n"
     ]
    }
   ],
   "source": [
    "combined = [(i, (risk_free_rate - d) / (u - d) if (u - d) else 0, s, u, d)\n",
    "            for i, (s, u, d) in enumerate(zip(initial_prices, up_factors, down_factors))]\n",
    "\n",
    "combined.insert(0, (0, 1, 0, 0, 0))\n",
    "combined.sort(key=lambda x: x[1], reverse=True)\n",
    "indices, coefficients, initial_prices, up_factors, down_factors = map(list, zip(*combined))\n",
    "\n",
    "initial_prices.pop(0)\n",
    "up_factors.pop(0)\n",
    "down_factors.pop(0)\n",
    "\n",
    "print(\"Sorted coefficients:\", coefficients)\n",
    "print(\"Sorted prices:\", initial_prices)\n",
    "print(\"Sorted up factors:\", up_factors)\n",
    "print(\"Sorted down factors:\", down_factors)"
   ]
  },
  {
   "cell_type": "markdown",
   "metadata": {},
   "source": [
    "For our two-asset example, we know the set of all outcomes $\\Omega = \\left\\{ \\binom{0}{0}, \\binom{0}{1}, \\binom{1}{0}, \\binom{1}{1} \\right\\}$. Here, we assign each event $\\mu_i$ to each outcome $\\omega$ such that\n",
    "\n",
    "$$\n",
    "\\mu_0 = \\begin{pmatrix}\n",
    "0 \\\\\n",
    "0 \\\\\n",
    "\\vdots \\\\\n",
    "0\n",
    "\\end{pmatrix}, \\quad\n",
    "\\mu_1 = \\begin{pmatrix}\n",
    "1 \\\\\n",
    "0 \\\\\n",
    "\\vdots \\\\\n",
    "0\n",
    "\\end{pmatrix}, \\quad\n",
    "\\mu_2 = \\begin{pmatrix}\n",
    "1 \\\\\n",
    "1 \\\\\n",
    "\\vdots \\\\\n",
    "0\n",
    "\\end{pmatrix}, \\ldots, \\quad\n",
    "\\mu_m = \\begin{pmatrix}\n",
    "1 \\\\\n",
    "1 \\\\\n",
    "\\vdots \\\\\n",
    "1\n",
    "\\end{pmatrix}\n",
    "$$\n",
    "\n",
    "where each subsequent $\\mu$ converts the next 0 into a 1. In our case, we have\n",
    "\n",
    "$$\n",
    "\\mu_0 = \\begin{pmatrix}\n",
    "0 \\\\\n",
    "0\n",
    "\\end{pmatrix}, \\quad\n",
    "\\mu_1 = \\begin{pmatrix}\n",
    "1 \\\\\n",
    "0\n",
    "\\end{pmatrix}, \\quad\n",
    "\\mu_2 = \\begin{pmatrix}\n",
    "1 \\\\\n",
    "1\n",
    "\\end{pmatrix}\n",
    "$$"
   ]
  },
  {
   "cell_type": "code",
   "execution_count": 27,
   "metadata": {},
   "outputs": [
    {
     "name": "stdout",
     "output_type": "stream",
     "text": [
      "[(0, 0), (1, 0), (1, 1)]\n"
     ]
    }
   ],
   "source": [
    "mu = [(1,) * i + (0,) * (asset_count - i) for i in range(asset_count + 1)]\n",
    "print(mu)"
   ]
  },
  {
   "cell_type": "markdown",
   "metadata": {},
   "source": [
    "We then assign probabilities to each event in such a way that\n",
    "\n",
    "$$\n",
    "P(\\mu_0) = b_0 - b_1, \\quad P(\\mu_1) = b_1 - b_2, \\ldots, \\quad P(\\mu_m) = b_m\n",
    "$$\n",
    "\n",
    "Notice that if the coefficients $b_i$ were not arranged in descending order, we may have negative probailities. In our case, we have\n",
    "\n",
    "$$\n",
    "P(\\mu_0) = \\frac{1}{3}, \\ \\ P(\\mu_1) = \\frac{1}{6}, \\ \\ P(\\mu_2) = \\frac{1}{2}\n",
    "$$"
   ]
  },
  {
   "cell_type": "code",
   "execution_count": 28,
   "metadata": {},
   "outputs": [
    {
     "name": "stdout",
     "output_type": "stream",
     "text": [
      "[0.3333333333333336, 0.16666666666666669, 0.4999999999999997]\n"
     ]
    }
   ],
   "source": [
    "mu_probabilities = [coefficients[i] - coefficients[i+1] for i in range(len(coefficients)-1)] + [coefficients[-1]]\n",
    "print(mu_probabilities)"
   ]
  },
  {
   "cell_type": "markdown",
   "metadata": {},
   "source": [
    "Now, we can combine the probabilites above, with the set $I^2$ created earlier. Each item in $I^2$ informs us of how the next step should be carried out. Take $\\begin{pmatrix}\n",
    "2 \\\\\n",
    "1\n",
    "\\end{pmatrix}$, for example. We know that we will be working with $\\mu_1$ and $\\mu_2$, and $P(\\mu_1)$ and $P(\\mu_2)$. We can then assemble\n",
    "\n",
    "$$\n",
    "P(\\mu_2) \\cdot P(\\mu_1) \\cdot X \\begin{pmatrix} 1&1 \\\\ 1&0 \\end{pmatrix}\n",
    "$$\n",
    "\n",
    "where $\\begin{pmatrix} 1&1 \\\\ 1&0 \\end{pmatrix}$ is the payoff of the outcome combining $\\mu_2$ and $\\mu_1$. Some (often most) payoffs are zero. In this instance, the payoff is simply calculated with\n",
    "\n",
    "$$\n",
    "\\max \\left\\{ \\frac{(100 \\times 1.1 \\times 1.1) + (100 \\times 1.1 \\times 0.9)}{2} - 100, 0 \\right\\} = 10\n",
    "$$\n",
    "\n",
    "Thus, the expected payoff is $\\frac{1}{6} \\times \\frac{1}{2} \\times 10 = £0.83$. Because there are nine items within $I^2$, we know that we will be working with nine different payoffs."
   ]
  },
  {
   "cell_type": "code",
   "execution_count": 29,
   "metadata": {},
   "outputs": [
    {
     "name": "stdout",
     "output_type": "stream",
     "text": [
      "X 1:\n",
      " [[0 0]\n",
      " [0 0]]\n",
      "\n",
      "X 2:\n",
      " [[0 1]\n",
      " [0 0]]\n",
      "\n",
      "X 3:\n",
      " [[0 1]\n",
      " [0 1]]\n",
      "\n",
      "X 4:\n",
      " [[1 0]\n",
      " [0 0]]\n",
      "\n",
      "X 5:\n",
      " [[1 1]\n",
      " [0 0]]\n",
      "\n",
      "X 6:\n",
      " [[1 1]\n",
      " [0 1]]\n",
      "\n",
      "X 7:\n",
      " [[1 0]\n",
      " [1 0]]\n",
      "\n",
      "X 8:\n",
      " [[1 1]\n",
      " [1 0]]\n",
      "\n",
      "X 9:\n",
      " [[1 1]\n",
      " [1 1]]\n",
      "\n"
     ]
    }
   ],
   "source": [
    "all_matrices = [np.column_stack([mu[i] for i in indices]) for indices in set_I]\n",
    "\n",
    "for idx, matrix in enumerate(all_matrices):\n",
    "    print(f\"X {idx + 1}:\\n {matrix}\\n\")"
   ]
  },
  {
   "cell_type": "code",
   "execution_count": 14,
   "metadata": {},
   "outputs": [
    {
     "name": "stdout",
     "output_type": "stream",
     "text": [
      "[0, 0, 0, 0, 1.0000000000000142, 10.000000000000028, 0, 10.000000000000028, 21.00000000000003]\n"
     ]
    }
   ],
   "source": [
    "payoffs = []\n",
    "for matrix in all_matrices:\n",
    "    S_t = initial_prices.copy()\n",
    "    for t in range(len(matrix[0])):\n",
    "        for i in range(asset_count):\n",
    "            multiplier = up_factors[i] if matrix[i][t] == 1 else down_factors[i]\n",
    "            S_t[i] *= multiplier\n",
    "    payoff = max((sum(S_t) / asset_count) - strike_price, 0) if option_type == \"call\" else max(strike_price - (sum(S_t) / asset_count), 0)\n",
    "    payoffs.append(payoff)\n",
    "\n",
    "print(payoffs)"
   ]
  },
  {
   "cell_type": "markdown",
   "metadata": {},
   "source": [
    "Finally, we can calculate $C_{\\textnormal{max}}(0)$, our price. The full equation for our example is\n",
    "\n",
    "$$\n",
    "\\begin{aligned}\n",
    "c_{\\max}(0) = & \\, P(\\mu_0)^2 \\cdot X \\begin{pmatrix}\n",
    "0 & 0 \\\\\n",
    "0 & 0\n",
    "\\end{pmatrix} + P(\\mu_0) \\cdot P(\\mu_1) \\cdot X \\begin{pmatrix}\n",
    "0 & 1 \\\\\n",
    "0 & 0\n",
    "\\end{pmatrix} + P(\\mu_0) \\cdot P(\\mu_2) \\cdot X \\begin{pmatrix}\n",
    "0 & 1 \\\\\n",
    "0 & 1\n",
    "\\end{pmatrix} \\\\\n",
    "& + P(\\mu_1) \\cdot P(\\mu_0) \\cdot X \\begin{pmatrix}\n",
    "1 & 0 \\\\\n",
    "0 & 0\n",
    "\\end{pmatrix} + P(\\mu_1)^2 \\cdot X \\begin{pmatrix}\n",
    "1 & 0 \\\\\n",
    "1 & 0\n",
    "\\end{pmatrix} + P(\\mu_1) \\cdot P(\\mu_2) \\cdot X \\begin{pmatrix}\n",
    "1 & 0 \\\\\n",
    "1 & 1\n",
    "\\end{pmatrix} \\\\\n",
    "& + P(\\mu_2) \\cdot P(\\mu_0) \\cdot X \\begin{pmatrix}\n",
    "1 & 1 \\\\\n",
    "0 & 0\n",
    "\\end{pmatrix} + P(\\mu_2) \\cdot P(\\mu_1) \\cdot X \\begin{pmatrix}\n",
    "1 & 1 \\\\\n",
    "1 & 0\n",
    "\\end{pmatrix} + P(\\mu_2)^2 \\cdot X \\begin{pmatrix}\n",
    "1 & 1 \\\\\n",
    "1 & 1\n",
    "\\end{pmatrix}.\n",
    "\\end{aligned}\n",
    "$$\n",
    "\n",
    "$$\n",
    "\\Longrightarrow C_{\\textnormal{max}}(0) = £6.94\n",
    "$$"
   ]
  },
  {
   "cell_type": "code",
   "execution_count": 31,
   "metadata": {},
   "outputs": [
    {
     "name": "stdout",
     "output_type": "stream",
     "text": [
      "Price of option at time 0: \n",
      "\tC_max = £ 6.94\n"
     ]
    }
   ],
   "source": [
    "c_max = sum([payoffs[idx] * np.prod([mu_probabilities[i] for i in indices]) for idx, indices in enumerate(set_I)])\n",
    "\n",
    "print(f\"Price of option at time 0:\", \"\\n\\tC_max = £\", round(c_max, 2))"
   ]
  }
 ],
 "metadata": {
  "kernelspec": {
   "display_name": "base",
   "language": "python",
   "name": "python3"
  },
  "language_info": {
   "codemirror_mode": {
    "name": "ipython",
    "version": 3
   },
   "file_extension": ".py",
   "mimetype": "text/x-python",
   "name": "python",
   "nbconvert_exporter": "python",
   "pygments_lexer": "ipython3",
   "version": "3.12.4"
  }
 },
 "nbformat": 4,
 "nbformat_minor": 2
}
